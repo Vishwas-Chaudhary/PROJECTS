{
 "cells": [
  {
   "cell_type": "code",
   "execution_count": 1,
   "id": "8ef8fcf6",
   "metadata": {},
   "outputs": [],
   "source": [
    "import nltk"
   ]
  },
  {
   "cell_type": "code",
   "execution_count": 2,
   "id": "6b0a283f-d095-4d87-9517-79c56c1b44f7",
   "metadata": {},
   "outputs": [
    {
     "name": "stdout",
     "output_type": "stream",
     "text": [
      "Defaulting to user installation because normal site-packages is not writeable\n",
      "Requirement already satisfied: nltk in c:\\users\\vishi\\appdata\\local\\packages\\pythonsoftwarefoundation.python.3.12_qbz5n2kfra8p0\\localcache\\local-packages\\python312\\site-packages (3.9.1)\n",
      "Requirement already satisfied: click in c:\\users\\vishi\\appdata\\local\\packages\\pythonsoftwarefoundation.python.3.12_qbz5n2kfra8p0\\localcache\\local-packages\\python312\\site-packages (from nltk) (8.1.7)\n",
      "Requirement already satisfied: joblib in c:\\users\\vishi\\appdata\\local\\packages\\pythonsoftwarefoundation.python.3.12_qbz5n2kfra8p0\\localcache\\local-packages\\python312\\site-packages (from nltk) (1.4.2)\n",
      "Requirement already satisfied: regex>=2021.8.3 in c:\\users\\vishi\\appdata\\local\\packages\\pythonsoftwarefoundation.python.3.12_qbz5n2kfra8p0\\localcache\\local-packages\\python312\\site-packages (from nltk) (2024.11.6)\n",
      "Requirement already satisfied: tqdm in c:\\users\\vishi\\appdata\\local\\packages\\pythonsoftwarefoundation.python.3.12_qbz5n2kfra8p0\\localcache\\local-packages\\python312\\site-packages (from nltk) (4.67.0)\n",
      "Requirement already satisfied: colorama in c:\\users\\vishi\\appdata\\local\\packages\\pythonsoftwarefoundation.python.3.12_qbz5n2kfra8p0\\localcache\\local-packages\\python312\\site-packages (from click->nltk) (0.4.6)\n",
      "Note: you may need to restart the kernel to use updated packages.\n"
     ]
    }
   ],
   "source": [
    "pip install nltk\n"
   ]
  },
  {
   "cell_type": "code",
   "execution_count": 3,
   "id": "a07fd8fc-6aa3-4aff-a2a8-b7355c87606f",
   "metadata": {},
   "outputs": [
    {
     "name": "stderr",
     "output_type": "stream",
     "text": [
      "[nltk_data] Downloading package stopwords to\n",
      "[nltk_data]     C:\\Users\\Vishi\\AppData\\Roaming\\nltk_data...\n",
      "[nltk_data]   Package stopwords is already up-to-date!\n",
      "[nltk_data] Downloading package punkt_tab to\n",
      "[nltk_data]     C:\\Users\\Vishi\\AppData\\Roaming\\nltk_data...\n",
      "[nltk_data]   Package punkt_tab is already up-to-date!\n"
     ]
    },
    {
     "data": {
      "text/plain": [
       "True"
      ]
     },
     "execution_count": 3,
     "metadata": {},
     "output_type": "execute_result"
    }
   ],
   "source": [
    "nltk.download('stopwords')\n",
    "nltk.download('punkt_tab')"
   ]
  },
  {
   "cell_type": "code",
   "execution_count": 4,
   "id": "f0c9f999-9d0e-4f41-94a5-be588204f3c6",
   "metadata": {
    "scrolled": true
   },
   "outputs": [
    {
     "name": "stdout",
     "output_type": "stream",
     "text": [
      "Defaulting to user installation because normal site-packages is not writeable\n",
      "Requirement already satisfied: scikit-learn in c:\\users\\vishi\\appdata\\local\\packages\\pythonsoftwarefoundation.python.3.12_qbz5n2kfra8p0\\localcache\\local-packages\\python312\\site-packages (1.5.2)\n",
      "Requirement already satisfied: numpy>=1.19.5 in c:\\users\\vishi\\appdata\\local\\packages\\pythonsoftwarefoundation.python.3.12_qbz5n2kfra8p0\\localcache\\local-packages\\python312\\site-packages (from scikit-learn) (2.1.3)\n",
      "Requirement already satisfied: scipy>=1.6.0 in c:\\users\\vishi\\appdata\\local\\packages\\pythonsoftwarefoundation.python.3.12_qbz5n2kfra8p0\\localcache\\local-packages\\python312\\site-packages (from scikit-learn) (1.14.1)\n",
      "Requirement already satisfied: joblib>=1.2.0 in c:\\users\\vishi\\appdata\\local\\packages\\pythonsoftwarefoundation.python.3.12_qbz5n2kfra8p0\\localcache\\local-packages\\python312\\site-packages (from scikit-learn) (1.4.2)\n",
      "Requirement already satisfied: threadpoolctl>=3.1.0 in c:\\users\\vishi\\appdata\\local\\packages\\pythonsoftwarefoundation.python.3.12_qbz5n2kfra8p0\\localcache\\local-packages\\python312\\site-packages (from scikit-learn) (3.5.0)\n",
      "Note: you may need to restart the kernel to use updated packages.\n"
     ]
    }
   ],
   "source": [
    "pip install scikit-learn"
   ]
  },
  {
   "cell_type": "code",
   "execution_count": 7,
   "id": "d8562420-f832-4532-af2d-5ff5b2145b8d",
   "metadata": {},
   "outputs": [],
   "source": [
    "\n",
    "paragraph= \"\"\"Once upon a time, there was a clumsy boy named Alex and an equally clumsy girl named Mia. They both lived in the same neighborhood but had never spoken much, mostly because whenever they crossed paths, chaos seemed to follow.\n",
    "\n",
    "Alex had a knack for dropping everything he touched. Books, pens, bags—you name it, he'd probably sent it flying. His friends affectionately called him “Hurricane Alex” because even a simple handshake often led to something toppling over. Mia, on the other hand, was known for tripping over absolutely nothing. Her shoelaces always seemed to untie themselves, and she had a record of accidentally walking into doorframes more times than anyone could count.\n",
    "\n",
    "One rainy afternoon, fate decided to have a little fun. Alex was rushing to get home, arms full of groceries, when his foot caught a puddle. Meanwhile, Mia, who was distracted tying her rebellious laces, stumbled forward. In what could only be described as a perfectly choreographed moment of clumsy elegance, Alex’s groceries flew into the air as Mia fell into him. Apples rolled down the sidewalk, a bag of flour burst open like a miniature snowstorm, and they both landed on the wet ground in a tangled heap.\n",
    "\n",
    "For a moment, silence reigned as rain tapped softly on their heads. Then, Mia started to giggle. Alex looked at her, flour coating his hair, and couldn’t help but burst into laughter too. From that day on, they became inseparable—not because they stopped being clumsy, but because they realized life’s tumbles are far better shared.\"\"\""
   ]
  },
  {
   "cell_type": "code",
   "execution_count": 8,
   "id": "d78f7cdc-5f7e-437c-ac19-e07030fbd290",
   "metadata": {},
   "outputs": [],
   "source": [
    "#cleaning the texts\n",
    "import re\n",
    "from nltk.corpus import stopwords\n",
    "from nltk.stem.porter import PorterStemmer\n",
    " "
   ]
  },
  {
   "cell_type": "code",
   "execution_count": 9,
   "id": "8fba5555-5f0c-4382-b912-8743090f9e72",
   "metadata": {},
   "outputs": [],
   "source": [
    "ps=PorterStemmer()\n",
    " "
   ]
  },
  {
   "cell_type": "code",
   "execution_count": 10,
   "id": "71e72068",
   "metadata": {},
   "outputs": [
    {
     "name": "stderr",
     "output_type": "stream",
     "text": [
      "[nltk_data] Downloading package punkt to\n",
      "[nltk_data]     C:\\Users\\Vishi\\AppData\\Roaming\\nltk_data...\n",
      "[nltk_data]   Package punkt is already up-to-date!\n"
     ]
    },
    {
     "data": {
      "text/plain": [
       "True"
      ]
     },
     "execution_count": 10,
     "metadata": {},
     "output_type": "execute_result"
    }
   ],
   "source": [
    " \n",
    "nltk.download('punkt')"
   ]
  },
  {
   "cell_type": "code",
   "execution_count": 11,
   "id": "ebffe015-4a93-41a8-b91a-da8937408957",
   "metadata": {},
   "outputs": [],
   "source": [
    " \n",
    "##cleaning the text\n",
    "sentences=nltk.sent_tokenize(paragraph)\n",
    "corpus=[]\n",
    "for i in range (len(sentences)):\n",
    "    #regex\n",
    "    review=re.sub('[^a-zA-Z]',' ',sentences[i]) #( notThisReplace, bySpace ,inSentences)\n",
    "    #covert to lower case\n",
    "    review=review.lower()\n",
    "    #split sentence into words\n",
    "    review=review.split()\n",
    "\n",
    "    #stem or lemmatize\n",
    "    review=[ps.stem(word) for word in review if not word in set(stopwords.words('english'))] # if word in not in set of english dicitionary\n",
    "    #using all words make senetence\n",
    "    review=' '.join(review)\n",
    "    corpus.append(review)"
   ]
  },
  {
   "cell_type": "code",
   "execution_count": 12,
   "id": "7d2e1cd6-db5f-4186-b589-1bdeab46fbcd",
   "metadata": {},
   "outputs": [
    {
     "data": {
      "text/plain": [
       "['upon time clumsi boy name alex equal clumsi girl name mia',\n",
       " 'live neighborhood never spoken much mostli whenev cross path chao seem follow',\n",
       " 'alex knack drop everyth touch',\n",
       " 'book pen bag name probabl sent fli',\n",
       " 'friend affection call hurrican alex even simpl handshak often led someth toppl',\n",
       " 'mia hand known trip absolut noth',\n",
       " 'shoelac alway seem unti record accident walk doorfram time anyon could count',\n",
       " 'one raini afternoon fate decid littl fun',\n",
       " 'alex rush get home arm full groceri foot caught puddl',\n",
       " 'meanwhil mia distract tie rebelli lace stumbl forward',\n",
       " 'could describ perfectli choreograph moment clumsi eleg alex groceri flew air mia fell',\n",
       " 'appl roll sidewalk bag flour burst open like miniatur snowstorm land wet ground tangl heap',\n",
       " 'moment silenc reign rain tap softli head',\n",
       " 'mia start giggl',\n",
       " 'alex look flour coat hair help burst laughter',\n",
       " 'day becam insepar stop clumsi realiz life tumbl far better share']"
      ]
     },
     "execution_count": 12,
     "metadata": {},
     "output_type": "execute_result"
    }
   ],
   "source": [
    "corpus"
   ]
  },
  {
   "cell_type": "code",
   "execution_count": 13,
   "id": "429b0e59-21eb-40af-af65-55c0e99e1780",
   "metadata": {},
   "outputs": [],
   "source": [
    "#creating the Bag of Words model  \n",
    "from sklearn.feature_extraction.text import CountVectorizer\n",
    "cv=CountVectorizer(max_features=1500)\n",
    "X=cv.fit_transform(corpus).toarray()"
   ]
  },
  {
   "cell_type": "code",
   "execution_count": 14,
   "id": "c9afe339",
   "metadata": {},
   "outputs": [
    {
     "data": {
      "text/plain": [
       "array([[0, 0, 0, ..., 0, 0, 0],\n",
       "       [0, 0, 0, ..., 0, 0, 1],\n",
       "       [0, 0, 0, ..., 0, 0, 0],\n",
       "       ...,\n",
       "       [0, 0, 0, ..., 0, 0, 0],\n",
       "       [0, 0, 0, ..., 0, 0, 0],\n",
       "       [0, 0, 0, ..., 0, 0, 0]])"
      ]
     },
     "execution_count": 14,
     "metadata": {},
     "output_type": "execute_result"
    }
   ],
   "source": [
    "X"
   ]
  }
 ],
 "metadata": {
  "kernelspec": {
   "display_name": "Python 3",
   "language": "python",
   "name": "python3"
  },
  "language_info": {
   "codemirror_mode": {
    "name": "ipython",
    "version": 3
   },
   "file_extension": ".py",
   "mimetype": "text/x-python",
   "name": "python",
   "nbconvert_exporter": "python",
   "pygments_lexer": "ipython3",
   "version": "3.12.7"
  }
 },
 "nbformat": 4,
 "nbformat_minor": 5
}
