{
 "cells": [
  {
   "cell_type": "code",
   "execution_count": 1,
   "metadata": {},
   "outputs": [],
   "source": [
    "import nltk\n",
    "paragraph = \"\"\"Once upon a time, there was a clumsy boy named Alex and an equally clumsy girl named Mia. They both lived in the same neighborhood but had never spoken much, mostly because whenever they crossed paths, chaos seemed to follow.\n",
    "\n",
    "Alex had a knack for dropping everything he touched. Books, pens, bags—you name it, he'd probably sent it flying. His friends affectionately called him “Hurricane Alex” because even a simple handshake often led to something toppling over. Mia, on the other hand, was known for tripping over absolutely nothing. Her shoelaces always seemed to untie themselves, and she had a record of accidentally walking into doorframes more times than anyone could count.\n",
    "\n",
    "One rainy afternoon, fate decided to have a little fun. Alex was rushing to get home, arms full of groceries, when his foot caught a puddle. Meanwhile, Mia, who was distracted tying her rebellious laces, stumbled forward. In what could only be described as a perfectly choreographed moment of clumsy elegance, Alex’s groceries flew into the air as Mia fell into him. Apples rolled down the sidewalk, a bag of flour burst open like a miniature snowstorm, and they both landed on the wet ground in a tangled heap.\n",
    "\n",
    "For a moment, silence reigned as rain tapped softly on their heads. Then, Mia started to giggle. Alex looked at her, flour coating his hair, and couldn’t help but burst into laughter too. From that day on, they became inseparable—not because they stopped being clumsy, but because they realized life’s tumbles are far better shared.\"\"\""
   ]
  },
  {
   "cell_type": "code",
   "execution_count": 2,
   "metadata": {},
   "outputs": [],
   "source": [
    "import re\n",
    "from nltk.corpus import stopwords\n",
    "from nltk.stem import WordNetLemmatizer\n"
   ]
  },
  {
   "cell_type": "code",
   "execution_count": 3,
   "metadata": {},
   "outputs": [],
   "source": [
    "wordnet=WordNetLemmatizer()"
   ]
  },
  {
   "cell_type": "code",
   "execution_count": 5,
   "metadata": {},
   "outputs": [
    {
     "name": "stderr",
     "output_type": "stream",
     "text": [
      "[nltk_data] Downloading package wordnet to\n",
      "[nltk_data]     C:\\Users\\Vishi\\AppData\\Roaming\\nltk_data...\n"
     ]
    },
    {
     "data": {
      "text/plain": [
       "True"
      ]
     },
     "execution_count": 5,
     "metadata": {},
     "output_type": "execute_result"
    }
   ],
   "source": [
    "nltk.download('wordnet')"
   ]
  },
  {
   "cell_type": "code",
   "execution_count": 6,
   "metadata": {},
   "outputs": [],
   "source": [
    "sentences=nltk.sent_tokenize(paragraph)\n",
    "corpus=[]\n",
    "for i in range (len(sentences)):\n",
    "    review = re.sub('[^a-zA-Z]',' ',sentences[i])       # ^ means not,repalce everything(junk characters) with space except a-z,A-Z \n",
    "    review = review.lower()                            #convert upper to lower case\n",
    "    review = review.split()                            #split sentences into words\n",
    "    review = [wordnet.lemmatize(word) for word in review if not word in set(stopwords.words('english'))]\n",
    "    review = ' '.join(review)\n",
    "    corpus.append(review)"
   ]
  },
  {
   "cell_type": "code",
   "execution_count": 7,
   "metadata": {},
   "outputs": [
    {
     "data": {
      "text/plain": [
       "['upon time clumsy boy named alex equally clumsy girl named mia',\n",
       " 'lived neighborhood never spoken much mostly whenever crossed path chaos seemed follow',\n",
       " 'alex knack dropping everything touched',\n",
       " 'book pen bag name probably sent flying',\n",
       " 'friend affectionately called hurricane alex even simple handshake often led something toppling',\n",
       " 'mia hand known tripping absolutely nothing',\n",
       " 'shoelace always seemed untie record accidentally walking doorframe time anyone could count',\n",
       " 'one rainy afternoon fate decided little fun',\n",
       " 'alex rushing get home arm full grocery foot caught puddle',\n",
       " 'meanwhile mia distracted tying rebellious lace stumbled forward',\n",
       " 'could described perfectly choreographed moment clumsy elegance alex grocery flew air mia fell',\n",
       " 'apple rolled sidewalk bag flour burst open like miniature snowstorm landed wet ground tangled heap',\n",
       " 'moment silence reigned rain tapped softly head',\n",
       " 'mia started giggle',\n",
       " 'alex looked flour coating hair help burst laughter',\n",
       " 'day became inseparable stopped clumsy realized life tumble far better shared']"
      ]
     },
     "execution_count": 7,
     "metadata": {},
     "output_type": "execute_result"
    }
   ],
   "source": [
    "corpus"
   ]
  },
  {
   "cell_type": "code",
   "execution_count": 11,
   "metadata": {},
   "outputs": [],
   "source": [
    "#creating the Bag of Words model  \n",
    "\n",
    "from sklearn.feature_extraction.text import TfidfVectorizer\n",
    "cv=TfidfVectorizer()\n",
    "y=cv.fit_transform(corpus).toarray()"
   ]
  },
  {
   "cell_type": "code",
   "execution_count": 12,
   "metadata": {},
   "outputs": [
    {
     "data": {
      "text/plain": [
       "array([[0.       , 0.       , 0.       , ..., 0.       , 0.       ,\n",
       "        0.       ],\n",
       "       [0.       , 0.       , 0.       , ..., 0.       , 0.       ,\n",
       "        0.2916255],\n",
       "       [0.       , 0.       , 0.       , ..., 0.       , 0.       ,\n",
       "        0.       ],\n",
       "       ...,\n",
       "       [0.       , 0.       , 0.       , ..., 0.       , 0.       ,\n",
       "        0.       ],\n",
       "       [0.       , 0.       , 0.       , ..., 0.       , 0.       ,\n",
       "        0.       ],\n",
       "       [0.       , 0.       , 0.       , ..., 0.       , 0.       ,\n",
       "        0.       ]])"
      ]
     },
     "execution_count": 12,
     "metadata": {},
     "output_type": "execute_result"
    }
   ],
   "source": [
    "y"
   ]
  }
 ],
 "metadata": {
  "kernelspec": {
   "display_name": "Python 3",
   "language": "python",
   "name": "python3"
  },
  "language_info": {
   "codemirror_mode": {
    "name": "ipython",
    "version": 3
   },
   "file_extension": ".py",
   "mimetype": "text/x-python",
   "name": "python",
   "nbconvert_exporter": "python",
   "pygments_lexer": "ipython3",
   "version": "3.12.7"
  }
 },
 "nbformat": 4,
 "nbformat_minor": 2
}
